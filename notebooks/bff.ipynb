{
 "cells": [
  {
   "cell_type": "code",
   "execution_count": null,
   "id": "77155c62-cea8-409f-958a-47335bea811b",
   "metadata": {},
   "outputs": [],
   "source": []
  }
 ],
 "metadata": {
  "kernelspec": {
   "display_name": "",
   "name": ""
  },
  "language_info": {
   "name": ""
  }
 },
 "nbformat": 4,
 "nbformat_minor": 5
}
